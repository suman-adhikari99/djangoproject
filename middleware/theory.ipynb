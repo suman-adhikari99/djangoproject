{
 "cells": [
  {
   "cell_type": "code",
   "execution_count": null,
   "metadata": {},
   "outputs": [],
   "source": [
    "#what is middleware\n",
    "explain this example (ek banda , ek bandi , bich me bandi ka vai and baap)\n",
    "middleware is plugin framework or a hook this is like a filter that takes request from th web browser or from\n",
    "from a client before they reach our views and eventually the templates that this middleware can manipulates \n",
    "so when request comes in middleware take care of its make some changes and pass to the view\n",
    "similary it work for template\n",
    "when request comes in request can back from middleware not reach to views\n",
    "commoon middleware works with url etc if forward slash is there or not in url etc\n",
    "\n"
   ]
  },
  {
   "cell_type": "code",
   "execution_count": null,
   "metadata": {},
   "outputs": [],
   "source": [
    "# custom middleware \n",
    "# middle ware ma order maintain hunu jaruri hunx\n",
    "#jab sabai middleware ko execution khatam hunx tespaxi django le response lae view ma pass garidinx\n",
    "MyMiddleware \n",
    "    __init__(slef,get_response)\n",
    "    # get_response ma next middleware kun lae execute garne ho tyo rakhinx\n",
    "    # e.g jaba security middleware ko kaam khatam hunx tespaxi session middleware ma janx tesko lagi security\n",
    "    # middleware to get_response ma session middleware rakheko hunx\n",
    "    # last middleware ko ge_response le view lae poin garx\n",
    "    __call__(self,request)\n",
    "    # incoming request haru _call__ ma aaux , response haru lae pani call method vitrai access garinx\n",
    "    #above two are mandetory\n",
    "    process_view(self,request,view_func,view_args,view_kwargs)\n",
    "    # this method is called before our view is called . view function lae as a argument lina sakx\n",
    "    # ra view function le line argument haru pani pass garn sakinx . yo bata view ko logic change garn sakinx\n",
    "    # . yo method ma extra logic haru add garn sakinx jastai encrypt, decrypt,zip  , unzip \n",
    "    process_exception(self,request,exception)\n",
    "    # application ma exeception occur vayo vane handle garn sakinx. error or exception in view can handle\n",
    "    process_template_response(self,request,response)\n",
    "    #this method is invoked just before template is send to client . it has access to request ass well ass response\n",
    "    \n",
    "    #above 3 are not mandetory\n",
    "\n"
   ]
  },
  {
   "cell_type": "code",
   "execution_count": null,
   "metadata": {},
   "outputs": [],
   "source": [
    "pyton manage.py runsever gare paxi sabai middlewareko init func chalx matlab tini haru ko obj initate hunx\n",
    "jab request aaux call method execute hunx tespaxi view ma janx(sabai middleware ko hunu parx)\n",
    "view ma excetion xa vane procee_exception method ma handle garn sakinx(sabai middleware ko)\n",
    "template lae broweser ma pathaunu agi process_template_response method execute hunx(sabai middlewareko)\n"
   ]
  },
  {
   "cell_type": "code",
   "execution_count": null,
   "metadata": {},
   "outputs": [],
   "source": [
    "__call__ allows to return arbitrary values, while __init__ being an constructor returns the instance of \n",
    "class implicitly. As other answers properly pointed out, __init__ is called just once, while it's possible \n",
    "to call __call__ multiple times, in case the initialized instance is assigned to intermediate variable."
   ]
  },
  {
   "cell_type": "code",
   "execution_count": 21,
   "metadata": {},
   "outputs": [
    {
     "name": "stdout",
     "output_type": "stream",
     "text": [
      "10+2+"
     ]
    }
   ],
   "source": [
    "def expanded_form(num):\n",
    "    \n",
    "    number=[]\n",
    "    divide=10\n",
    "    for i in range(0,len(str(num))):\n",
    "        nums=num%divide\n",
    "        number.append(nums)\n",
    "        num=num-(num%divide)\n",
    "        \n",
    "        divide=divide*10\n",
    "    \n",
    "    length=len(number)\n",
    "    for i in range(length):\n",
    "        print('{}'.format(number[length-1]),end=\"+\")\n",
    "        length=length-1\n",
    "\n",
    "expanded_form(12)"
   ]
  },
  {
   "cell_type": "code",
   "execution_count": 15,
   "metadata": {},
   "outputs": [
    {
     "data": {
      "text/plain": [
       "[12, 3, 1]"
      ]
     },
     "execution_count": 15,
     "metadata": {},
     "output_type": "execute_result"
    }
   ],
   "source": [
    "num=[12,3,1]\n",
    "[i for i in num]"
   ]
  }
 ],
 "metadata": {
  "interpreter": {
   "hash": "916dbcbb3f70747c44a77c7bcd40155683ae19c65e1c03b4aa3499c5328201f1"
  },
  "kernelspec": {
   "display_name": "Python 3.8.10 64-bit",
   "language": "python",
   "name": "python3"
  },
  "language_info": {
   "codemirror_mode": {
    "name": "ipython",
    "version": 3
   },
   "file_extension": ".py",
   "mimetype": "text/x-python",
   "name": "python",
   "nbconvert_exporter": "python",
   "pygments_lexer": "ipython3",
   "version": "3.8.10"
  },
  "orig_nbformat": 4
 },
 "nbformat": 4,
 "nbformat_minor": 2
}
