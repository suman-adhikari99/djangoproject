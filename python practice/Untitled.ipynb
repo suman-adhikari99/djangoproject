{
 "cells": [
  {
   "cell_type": "code",
   "execution_count": null,
   "id": "77c49f23",
   "metadata": {},
   "outputs": [],
   "source": [
    "# iterators \n",
    "# e.g for loop is also iterator\n",
    "nums =[7,89,8]\n",
    "for i in nums:\n",
    "    print(i)\n",
    "    \n",
    "    \n",
    "it = iter(nums)   # this makes nums iterable by using iter mehtod \n",
    "print(next(it))\n",
    "print(next(it))\n",
    "print(it.__next__())\n",
    "    \n",
    "    "
   ]
  },
  {
   "cell_type": "code",
   "execution_count": null,
   "id": "360a081f",
   "metadata": {},
   "outputs": [],
   "source": [
    "#All the data types you have encountered so far that are collection or container types are iterable.\n",
    "#These include the string, list, tuple, dict set, and frozenset types.\n",
    "#Building an iterator from scratch is easy in Python. We just have to implement the __iter__() and the __next__() methods.\n",
    "\n",
    "#The __iter__() method returns the iterator object itself. If required, some initialization can be performed.\n",
    "\n",
    "#The __next__() method must return the next item in the sequence. On reaching the end, and in subsequent calls, it must raise StopIteration.\n",
    "\n",
    "# building custom iterators\n",
    "class TopTen:\n",
    "    def __init__(self):\n",
    "        self.num = 1\n",
    "    def __iter__(self):\n",
    "        return self\n",
    "    def __next__(self):\n",
    "        \n",
    "        if self.num <=10:\n",
    "            val=self.num\n",
    "            self.num+= 1\n",
    "            return val\n",
    "        else:\n",
    "            raise StopIteration\n",
    "        \n",
    "values =TopTen()\n",
    "print(next(values))\n",
    "for i in values:\n",
    "    print(i)\n"
   ]
  },
  {
   "cell_type": "code",
   "execution_count": null,
   "id": "0ea9d061",
   "metadata": {},
   "outputs": [],
   "source": [
    "#building custom iterator\n",
    "class PowTwo:\n",
    "    def __init__(self):\n",
    "        self.age=1\n",
    "        \n",
    "    def __iter__(self):\n",
    "        "
   ]
  },
  {
   "cell_type": "code",
   "execution_count": null,
   "id": "43b3a743",
   "metadata": {},
   "outputs": [],
   "source": [
    "# generator will give iterator\n",
    "#pip install jupyterthemes\n",
    "#pip install --upgrade jupyterthemes\n",
    "# ! jt -l\n",
    "# ! jt -t themenames"
   ]
  },
  {
   "cell_type": "code",
   "execution_count": null,
   "id": "665e479d",
   "metadata": {},
   "outputs": [],
   "source": [
    "\n",
    "! jt -l\n",
    "\n"
   ]
  },
  {
   "cell_type": "code",
   "execution_count": null,
   "id": "459326c2",
   "metadata": {},
   "outputs": [],
   "source": [
    "! jt -t chesterish"
   ]
  }
 ],
 "metadata": {
  "kernelspec": {
   "display_name": "Python 3 (ipykernel)",
   "language": "python",
   "name": "python3"
  },
  "language_info": {
   "codemirror_mode": {
    "name": "ipython",
    "version": 3
   },
   "file_extension": ".py",
   "mimetype": "text/x-python",
   "name": "python",
   "nbconvert_exporter": "python",
   "pygments_lexer": "ipython3",
   "version": "3.8.10"
  }
 },
 "nbformat": 4,
 "nbformat_minor": 5
}
