{
 "cells": [
  {
   "cell_type": "code",
   "execution_count": 2,
   "id": "05de794d",
   "metadata": {},
   "outputs": [
    {
     "name": "stdout",
     "output_type": "stream",
     "text": [
      "(5, 3)\n",
      "Name:Bob,Age:42,Profession:doctor\n",
      "Name:james,Age:24,Profession:engineer\n",
      "Name:james,Age:24,Profession:Artist\n",
      "Name:Harry,Age:32,Profession:Lecturer\n",
      "Result without destructuring :\n",
      " Name:Bob,Age:42, profession:doctor\n",
      " Name:james,Age:24, profession:engineer\n",
      " Name:james,Age:24, profession:Artist\n",
      " Name:Harry,Age:32, profession:Lecturer\n",
      "1\n",
      "[('Rolf', 98), ('Bob', 30), ('Anne', 100)]\n",
      "('Rolf', 98)\n",
      "('Bob', 30)\n",
      "('Anne', 100)\n"
     ]
    }
   ],
   "source": [
    "# destructuring variables\n",
    "#x=(5,3) #this is a tuple , baracket are not necessary if you don't want to mention it as a touple. if we don't \n",
    "#sourrund it by barcket we will confuse by it is touple or other collectin\n",
    "x=5,3 # this is also valid\n",
    "print(x)\n",
    "x,y=3,4 # two variable\n",
    "x=[(5,3)]# touple with list\n",
    "x=[3,2] #list \n",
    "\n",
    "\n",
    "people =[(\"Bob\",42,\"doctor\"),(\"james\",24,\"engineer\"),(\"james\",24,\"Artist\"),(\"Harry\",32,\"Lecturer\")]\n",
    "for name,age,profession in people:\n",
    "    print (f\"Name:{name},Age:{age},Profession:{profession}\")\n",
    "    \n",
    "#with out destructuring variable we can do it as\n",
    "print(\"Result without destructuring :\")\n",
    "for person in people:\n",
    "    print(f\" Name:{person[0]},Age:{person[1]}, profession:{person[2]}\")\n",
    "    \n",
    "\n",
    "# *t ->this is the symbol of collection value\n",
    "l=[1,2,3,4,5] \n",
    "head, *tail=[1,2,3,45,5] # this will make one variable head and one touple tail have first elem and remaing are in tail\n",
    "print(head)\n",
    "\n",
    "\n",
    "student_attendence ={\"Rolf\":98,\"Bob\":30,\"Anne\":100}\n",
    "print(list(student_attendence.items()))\n",
    "for t in student_attendence.items():\n",
    "    print(t)"
   ]
  },
  {
   "cell_type": "code",
   "execution_count": 9,
   "id": "2ba34121",
   "metadata": {},
   "outputs": [
    {
     "name": "stdout",
     "output_type": "stream",
     "text": [
      "(3, 2, 1)\n",
      "3 2 1\n",
      "6\n",
      "3 2 from nums variable\n",
      "5\n",
      "11\n",
      "11\n",
      "(1, 2, 3)\n",
      "1 2 3\n",
      "6\n",
      "None\n"
     ]
    }
   ],
   "source": [
    "# unpacking arguments\n",
    "def multiply(*args): # the function have set of argument that we collected into touple argument this is way of collecting multiple argument\n",
    "    print(args)\n",
    "    print(*args)\n",
    "    total=1\n",
    "    for args in args:\n",
    "        total=total*args\n",
    "    print(total)\n",
    "        \n",
    "multiply(3,2,1)\n",
    "\n",
    "\n",
    "def add(x,y):\n",
    "    return x+y\n",
    "\n",
    "nums=[3,2]\n",
    "\n",
    "print(*nums,\"from nums variable\")\n",
    "print(add(*nums)) #  *nums will get result 3,2 which is \n",
    "\n",
    "#with out **kwargs we can pass dict in fucntion like this\n",
    "nums_dict ={\"x\":3,\"y\":8}\n",
    "print(add(x=nums_dict[\"x\"], y=nums_dict[\"y\"]))\n",
    "\n",
    "# using **kwargs mehtod which is unpacking of dictionary\n",
    "print(add(**nums_dict))#it pass eack key i.e x and y of names_dict into named argument i.e in add(x,y) x and y are \n",
    "                        #are named argument value will going to data associated with key\n",
    "    \n",
    "    \n",
    "\n",
    "def apply(*args, operator): # the *args will collect all the positional argument into args touple and a named\n",
    "                            # argument is passed into operator. this required a compulsory one named argument\n",
    "    if operator ==\"*\":\n",
    "        return multiply(*args) # analyze this : apply(1,2,3, operator=\"*\") when we call three arg are collected into \n",
    "                                #def apply(*args,operator)'s  one args touple like this args=(1,3,4) when we call \n",
    "                                #multiply(*args) we want to pass it as fours different arguments so we pass *args \n",
    "                                #instead of multiply(args)\n",
    "    if operator ==\"+\":\n",
    "        return sum(args)\n",
    "    else:\n",
    "        return \"no valid operator provided to apply()\"\n",
    "    \n",
    "print(apply(1,2,3, operator=\"*\"))\n",
    "    "
   ]
  },
  {
   "cell_type": "code",
   "execution_count": 13,
   "id": "c148dbda",
   "metadata": {},
   "outputs": [
    {
     "name": "stdout",
     "output_type": "stream",
     "text": [
      "{'name': 'Bob', 'age': 24}\n",
      "Bob 23\n",
      "bob 23\n",
      "kwargs is printed{'name': 'bob', 'age': 23}\n",
      "name:bob\n",
      "age:23\n"
     ]
    }
   ],
   "source": [
    "# packing of keyword argument\n",
    "\n",
    "def named(**kwargs): #**kwargs collect keyword argument so all of these keyword argument are collected and put into\n",
    "                    # THE dictionary where the dictionary's key is key of keyword argument . it pack keyword argument\n",
    "                    #into dictonary\n",
    "    print(kwargs)\n",
    "    \n",
    "    \n",
    "named(name=\"Bob\", age=24)\n",
    "\n",
    "#unpacking\n",
    "def named(name,age):\n",
    "    print(name,age)\n",
    "    \n",
    "details={\"name\":\"Bob\",\"age\":23}\n",
    "named(**details) # this unpack a dictionary into keyword argument. e.g details dict is unpack as named(name=\"Bob\",age=23)\n",
    "\n",
    "\n",
    "def print_nicely(**kwargs): # packing\n",
    "    named(**kwargs)#repacking i.e un packing and passed into named() func\n",
    "    print(f\"kwargs is printed{kwargs}\")\n",
    "    for arg, value in kwargs.items():# sotre in touple and destrucre variable \n",
    "        print(f\"{arg}:{value}\")\n",
    "print_nicely(name=\"bob\",age=23)\n",
    "\n",
    "\n",
    "\n",
    "\n"
   ]
  },
  {
   "cell_type": "code",
   "execution_count": null,
   "id": "3e624527",
   "metadata": {},
   "outputs": [],
   "source": [
    "# packing and unpacking form web tutorial\n"
   ]
  }
 ],
 "metadata": {
  "kernelspec": {
   "display_name": "Python 3 (ipykernel)",
   "language": "python",
   "name": "python3"
  },
  "language_info": {
   "codemirror_mode": {
    "name": "ipython",
    "version": 3
   },
   "file_extension": ".py",
   "mimetype": "text/x-python",
   "name": "python",
   "nbconvert_exporter": "python",
   "pygments_lexer": "ipython3",
   "version": "3.8.10"
  },
  "widgets": {
   "application/vnd.jupyter.widget-state+json": {
    "state": {},
    "version_major": 2,
    "version_minor": 0
   }
  }
 },
 "nbformat": 4,
 "nbformat_minor": 5
}
