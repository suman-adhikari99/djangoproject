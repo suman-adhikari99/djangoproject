{
 "cells": [
  {
   "cell_type": "code",
   "execution_count": 2,
   "id": "4373b05e",
   "metadata": {},
   "outputs": [
    {
     "name": "stdout",
     "output_type": "stream",
     "text": [
      "__main__\n"
     ]
    }
   ],
   "source": [
    "#telusko\n",
    "print(__name__) # this rstult __main__ in c it is starting point of prgram execution\n",
    "#__name__ is a built-in variable which evaluates to the name of the current module.\n",
    "#Thus it can be used to check whether the current script is being run on its own \n",
    "#or being imported somewhere else by combining it with if statement,\n",
    "\n",
    "\n",
    "\n",
    "\n"
   ]
  },
  {
   "cell_type": "code",
   "execution_count": 1,
   "id": "c0db49f8",
   "metadata": {},
   "outputs": [],
   "source": [
    "#oop in python refresher\n",
    "\n",
    "# every object have attribute(data i.e. variable) and property(function) function in oop is method"
   ]
  },
  {
   "cell_type": "code",
   "execution_count": 12,
   "id": "9e6471cb",
   "metadata": {},
   "outputs": [
    {
     "name": "stdout",
     "output_type": "stream",
     "text": [
      "Hello\n"
     ]
    }
   ],
   "source": [
    "#__init__(self) like constructor\n",
    "class Person:\n",
    "    def __init__(self, name, age):\n",
    "        self.name=name\n",
    "        self.age=age\n",
    "    def __str__(self): # this method gets called for you when you want to turn your object into a string\n",
    "                        #let me just return hello from here and print bob object result will \"hello\"\n",
    "        return \"Hello\"\n",
    "    def __repr__(self): # it is similar to __str__ buth the goal is unambiguos representation of object\n",
    "        return \"hello\"\n",
    "bob = Person(\"sushmee\", 22)\n",
    "print(bob)"
   ]
  },
  {
   "cell_type": "code",
   "execution_count": 13,
   "id": "40f9fe70",
   "metadata": {},
   "outputs": [],
   "source": [
    "class Store:\n",
    "    def __init__(self,name):\n",
    "        self.name=name\n",
    "        self.items=[]\n",
    "    def add_item(self,name,price):\n",
    "        item={'name':name,'price':price}\n",
    "        self.items.append(item)\n",
    "    def stock_price(self):\n",
    "        return sum([item[price] for item in self.items])\n",
    "        \n",
    "    "
   ]
  },
  {
   "cell_type": "code",
   "execution_count": 20,
   "id": "bacce0af",
   "metadata": {},
   "outputs": [
    {
     "name": "stdout",
     "output_type": "stream",
     "text": [
      "called static method\n",
      "called class_method of <class '__main__.ClassTest'>\n"
     ]
    }
   ],
   "source": [
    "class ClassTest:\n",
    "    def instance_method(self): # this is a instance which doen't require any decorator. it takes object as parameter\n",
    "        print(f\"called instance method of {self}\")\n",
    "        \n",
    "    @classmethod\n",
    "    def class_method(cls): # it takes class as prameter ,the cls is here ClassTest\n",
    "        print(f\"called class_method of {cls}\") # it is useful when we want to use class inside a funtion\n",
    "        \n",
    "    @staticmethod\n",
    "    def static_method(): # it does't take object and class as parameter. it is like other normal function\n",
    "        print(\"called static method\") \n",
    "    \n",
    "ClassTest.static_method() # it doesn't take class inside parameter like ClassTest.static(classTest) because it is normal function\n",
    "                            #it doesn't have any information about class and object so it is just a funtion live inside a class\n",
    "ClassTest.class_method() # if you don't pass any things in class method python do like this in this scenerio \n",
    "                            # ClassTest.class_method(ClassTest)\n"
   ]
  },
  {
   "cell_type": "code",
   "execution_count": 21,
   "id": "413459d3",
   "metadata": {},
   "outputs": [],
   "source": [
    "#@ class method\n",
    "class Book:\n",
    "    TYPES =(\"hardcover\", \"paperback\")\n",
    "    \n",
    "    def __init__(self, name, book_type, weight):\n",
    "        self.name=name\n",
    "        self.book_type=book_type\n",
    "        self.weight = weight\n",
    "    def __repr__(self):\n",
    "        return f\"<Book {sefl.name}, {self.book_type}, weighing{self.weight}g>\" \n",
    "    @classmethod\n",
    "    def hardcover(cls,name,page_weight):\n",
    "        return Book(name,Book.TYPES[0], page_weight +100 )# here we use a class inside a method\n",
    "     @classmethod\n",
    "    def paperback(cls,name,page_weight):\n",
    "        return cls(name,Book.TYPES[1], page_weight)# here cls =Book\n",
    "    \n",
    "book=Book.hardcover(\"harry Potter\", 1299)\n",
    "light =Book.paperback(\"sushmee\",22)\n",
    "    \n"
   ]
  }
 ],
 "metadata": {
  "kernelspec": {
   "display_name": "Python 3 (ipykernel)",
   "language": "python",
   "name": "python3"
  },
  "language_info": {
   "codemirror_mode": {
    "name": "ipython",
    "version": 3
   },
   "file_extension": ".py",
   "mimetype": "text/x-python",
   "name": "python",
   "nbconvert_exporter": "python",
   "pygments_lexer": "ipython3",
   "version": "3.8.10"
  }
 },
 "nbformat": 4,
 "nbformat_minor": 5
}
