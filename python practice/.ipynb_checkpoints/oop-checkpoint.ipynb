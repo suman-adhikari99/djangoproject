{
 "cells": [
  {
   "cell_type": "code",
   "execution_count": null,
   "id": "4373b05e",
   "metadata": {},
   "outputs": [],
   "source": [
    "#telusko\n",
    "print(__name__) # this rstult __main__ in c it is starting point of prgram execution\n",
    "#__name__ is a built-in variable which evaluates to the name of the current module.\n",
    "#Thus it can be used to check whether the current script is being run on its own \n",
    "#or being imported somewhere else by combining it with if statement,\n",
    "\n",
    "\n",
    "\n",
    "\n"
   ]
  },
  {
   "cell_type": "code",
   "execution_count": null,
   "id": "c0db49f8",
   "metadata": {},
   "outputs": [],
   "source": [
    "#oop in python refresher\n",
    "\n",
    "# every object have attribute(data i.e. variable) and property(function) function in oop is method"
   ]
  },
  {
   "cell_type": "code",
   "execution_count": null,
   "id": "7383cdc8",
   "metadata": {},
   "outputs": [],
   "source": [
    "#__init__(self) like constructor\n",
    "class Person:\n",
    "    def __init__(self, name, age):\n",
    "        self.name=name\n",
    "        self.age=age\n",
    "    def __str__(self): # this method gets called for you when you want to turn your object into a string\n",
    "                        #let me just return hello from here and print bob object result will \"hello\"\n",
    "        return \"Hello\"\n",
    "    def __repr__(self): # it is similar to __str__ buth the goal is unambiguos representation of object\n",
    "        return \"hello\"\n",
    "bob = Person(\"sushmee\", 22)\n",
    "print(bob)"
   ]
  },
  {
   "cell_type": "code",
   "execution_count": null,
   "id": "2b5d9227",
   "metadata": {},
   "outputs": [],
   "source": [
    "class Store:\n",
    "    def __init__(self,name):\n",
    "        self.name=name\n",
    "        self.items=[]\n",
    "    def add_item(self,name,price):\n",
    "        item={'name':name,'price':price}\n",
    "        self.items.append(item)\n",
    "    def stock_price(self):\n",
    "        return sum([item[price] for item in self.items])\n",
    "        \n",
    "    "
   ]
  },
  {
   "cell_type": "code",
   "execution_count": null,
   "id": "625146dc",
   "metadata": {},
   "outputs": [],
   "source": [
    "class ClassTest:\n",
    "    def instance_method(self): # this is a instance which doen't require any decorator. it takes object as parameter\n",
    "        print(f\"called instance method of {self}\")\n",
    "        \n",
    "    @classmethod\n",
    "    def class_method(cls): # it takes class as prameter ,the cls is here ClassTest\n",
    "        print(f\"called class_method of {cls}\") # it is useful when we want to use class inside a funtion\n",
    "        \n",
    "    @staticmethod\n",
    "    def static_method(): # it does't take object and class as parameter. it is like other normal function\n",
    "        print(\"called static method\") \n",
    "    \n",
    "ClassTest.static_method() # it doesn't take class inside parameter like ClassTest.static(classTest) because it is normal function\n",
    "                            #it doesn't have any information about class and object so it is just a funtion live inside a class\n",
    "ClassTest.class_method() # if you don't pass any things in class method python do like this in this scenerio \n",
    "                            # ClassTest.class_method(ClassTest)\n"
   ]
  },
  {
   "cell_type": "code",
   "execution_count": null,
   "id": "ed4322af",
   "metadata": {},
   "outputs": [],
   "source": [
    "\n",
    "    \n"
   ]
  },
  {
   "cell_type": "code",
   "execution_count": null,
   "id": "49228329",
   "metadata": {},
   "outputs": [],
   "source": [
    "#inside heap memory you have object or collection of object(int,str, evrything is object in python\n",
    ")\n",
    "#every object take some space and every space have some address right?\n",
    "# every object have its own size. now thought about who allocate size to object?-> size of obj\n",
    "# is also depend on the no. of variables and size of each variable also\n",
    "# who allocates size to object ? ->constructor\n"
   ]
  },
  {
   "cell_type": "code",
   "execution_count": null,
   "id": "96b648c5",
   "metadata": {},
   "outputs": [],
   "source": [
    "# compare two object\n",
    "class Compare:\n",
    "    def __init__(self,age):\n",
    "        self.age=age\n",
    "    def compare(self, other): # here lok at function call c1 is self and c2 is other \n",
    "        if self.age==other.age:\n",
    "            print(\"they are same\")\n",
    "        else:\n",
    "            print(\"they are not same\")\n",
    "c1=Compare(22)\n",
    "c2=Compare(23)\n",
    "c1.compare(c2)\n",
    "        \n",
    "        "
   ]
  },
  {
   "cell_type": "code",
   "execution_count": null,
   "id": "6200b782",
   "metadata": {},
   "outputs": [],
   "source": [
    "#types of variables in python\n",
    "# instance variable- as a object change value of variable also change. if you chage one object it \n",
    "#will not chage other instance. they are differnet for differnet object. if you define a variable \n",
    "#inside a __init__() they are instance variable\n",
    "\n",
    "\n",
    "#if you define a variable outside the __init__() they are class varibale and can access by all object\n",
    "\n",
    "\n",
    "\n",
    "#maily there are two types of variable class variable and instance variable . calss variable is \n",
    "#also considered as static variable. it is same for all object\n"
   ]
  },
  {
   "cell_type": "code",
   "execution_count": null,
   "id": "d8cb971b",
   "metadata": {},
   "outputs": [],
   "source": [
    "class Car:\n",
    "    wheel=4\n",
    "    def __init__(self,milage=40):\n",
    "        self.milage=milage\n",
    "        self.color=\"black\"\n",
    "    \n",
    "    \n",
    "c1=Car(49)\n",
    "c2=Car()\n",
    "c1.color=\"red\"\n",
    "c2.color=\"white\"# instance variable can modified in this way\n",
    "Car.wheel=6 # class variable can modified in this way\n",
    "print(c1.milage, c1.wheel)\n",
    "print(c2.color,c2.wheel)\n",
    "    "
   ]
  },
  {
   "cell_type": "code",
   "execution_count": null,
   "id": "6f881b7f",
   "metadata": {},
   "outputs": [],
   "source": [
    "# types of method in python\n",
    "#class mehtod -> it works  with class vairable. self is pass as first paramenter\n",
    "#instance method-> it works with instance vairable. cls is pass as first paramenter\n",
    "#static mehtod-> that mehtod which is not concern with class and instace variable \n",
    "\n",
    "\n",
    "\n",
    "#When a method creates an instance of the class and returns it, the method is called a\n",
    "#factory method\n",
    "    "
   ]
  },
  {
   "cell_type": "code",
   "execution_count": null,
   "id": "b0ccd46d",
   "metadata": {},
   "outputs": [],
   "source": [
    "class Student:\n",
    "    school=\"shree bhim ma vi\"\n",
    "    def __init__(self):\n",
    "        self.name=\"blank\"\n",
    "        self.id=0\n",
    "    def instance_method(self):\n",
    "        print(f\" iam form instance mehtod my name is :{self.name}, and my age:{self.id},{self.school}\")\n",
    "    @classmethod\n",
    "    def cls_mehtod(cls):\n",
    "        print(f\"hello iam froj class mehtod my school name is :{cls.school}\")\n",
    "        print(f\"{cls.school}\")\n",
    "    @staticmethod\n",
    "    def static_method():# nothing pass as in class and instance method\n",
    "        print(\"hi every one i am from static mehtod i have no concern to class and instance variable\")\n",
    "    def setter_method(self,name,id):\n",
    "        self.name=name\n",
    "        self.id=id\n",
    "        print(\"my job is to set the value to __init__\")\n",
    "\n",
    "obj=Student()\n",
    "#print(Student.cls_mehtod())\n",
    "obj.instance_method()\n",
    "\n"
   ]
  },
  {
   "cell_type": "code",
   "execution_count": null,
   "id": "b62176cc",
   "metadata": {},
   "outputs": [],
   "source": [
    "#@ class method\n",
    "class Book:\n",
    "    TYPES =(\"hardcover\", \"paperback\")\n",
    "    \n",
    "    def __init__(self, name, book_type, weight):\n",
    "        self.name=name\n",
    "        self.book_type=book_type\n",
    "        self.weight = weight\n",
    "    def __repr__(self):\n",
    "        return f\"<Book {self.name}, {self.book_type}, weighing{self.weight}g>\" \n",
    "    @classmethod\n",
    "    def hardcover(cls,name,page_weight):\n",
    "        return Book(name,Book.TYPES[0], page_weight +100 )# here we use a class inside a method\n",
    "    @classmethod\n",
    "    def paperback(cls,name,page_weight): # factory of class\n",
    "        return cls(name,cls.TYPES[1], page_weight)# here cls =Book\n",
    "    \n",
    "book=Book.hardcover(\"harry Potter\", 1299) #without creating object you can call class method\n",
    "light =print(Book.paperback(\"sushmee\",22))"
   ]
  },
  {
   "cell_type": "code",
   "execution_count": null,
   "id": "8f8074bf",
   "metadata": {},
   "outputs": [],
   "source": [
    "#read class method form here\n",
    "\n",
    "#https://www.pythontutorial.net/python-oop/python-class-methods/"
   ]
  },
  {
   "cell_type": "code",
   "execution_count": null,
   "id": "d2189a6e",
   "metadata": {},
   "outputs": [],
   "source": [
    "#inheritance\n",
    "#single inheritance\n",
    "class A:\n",
    "    def feature1(self):\n",
    "        print(\"this is feature 1 form class A\")\n",
    "    def feature2(self):\n",
    "        print(\"this is feature b form class A\")\n",
    "class B(A):\n",
    "   \n",
    "    def feature3(self):\n",
    "        print(\"this is feature 3 form class B\")\n",
    "obj_B=B()\n",
    "obj_B.feature1()\n",
    "obj_B.feature3()"
   ]
  },
  {
   "cell_type": "code",
   "execution_count": null,
   "id": "5254d674",
   "metadata": {},
   "outputs": [],
   "source": [
    "#multi level inheritance\n",
    "class A:\n",
    "    def feature1(self):\n",
    "        print(\"this is feature 1 form class A\")\n",
    "    def feature2(self):\n",
    "        print(\"this is feature b form class A\")\n",
    "class B(A):\n",
    "   \n",
    "    def feature3(self):\n",
    "        print(\"this is feature 3 form class B\")\n",
    "        \n",
    "class C(B):\n",
    "   \n",
    "    def feature4(self):\n",
    "        print(\"this is feature 3 form class B\")\n",
    "obj_c=C()\n",
    "obj_c.feature4()\n",
    "obj_c.feature1()\n",
    "obj_c.feature3()\n"
   ]
  },
  {
   "cell_type": "code",
   "execution_count": null,
   "id": "31a54eaa",
   "metadata": {},
   "outputs": [],
   "source": [
    "#multiple inheritance\n",
    "class A:\n",
    "    def feature1(self):\n",
    "        print(\"this is feature 1 form class A\")\n",
    "    def feature2(self):\n",
    "        print(\"this is feature b form class A\")\n",
    "class B:\n",
    "   \n",
    "    def feature3(self):\n",
    "        print(\"this is feature 3 form class B\")\n",
    "        \n",
    "class C(A,B):\n",
    "   \n",
    "    def feature4(self):\n",
    "        print(\"this is feature 3 form class B\")\n",
    "obj_c=C()\n",
    "obj_c.feature4()\n",
    "obj_c.feature1()\n",
    "obj_c.feature3()"
   ]
  },
  {
   "cell_type": "code",
   "execution_count": null,
   "id": "a4bfc42d",
   "metadata": {},
   "outputs": [],
   "source": [
    "#constructior in inheritance\n",
    "\n",
    "class A:\n",
    "    def __init__(self):\n",
    "        print(\"this is init of class A\")\n",
    "    def feature1(self):\n",
    "        print(\"this is feature 1 form class A\")\n",
    "    def feature2(self):\n",
    "        print(\"this is feature b form class A\")\n",
    "class B(A):\n",
    "    def __init__(self):\n",
    "        print(\"this is init form class B\")\n",
    "   \n",
    "    def feature3(self):\n",
    "        print(\"this is feature 3 form class B\")\n",
    "b=B() # we have init in class A and class B both but this will call init of class B not class A\n",
    "# if you create object of sub class it will first try find init of sub class if it is not found\n",
    "#in sub class then it will call init of super class\n",
    "\n",
    "# but what if you want to call init if A also?\n",
    "# by deafault only one is call but if want both we use super keyword\n"
   ]
  },
  {
   "cell_type": "code",
   "execution_count": null,
   "id": "e2bb43c5",
   "metadata": {},
   "outputs": [],
   "source": [
    "class A:\n",
    "    def __init__(self):\n",
    "        print(\"this is init of class A\")\n",
    "    def feature1(self):\n",
    "        print(\"this is feature 1 form class A\")\n",
    "    def feature2(self):\n",
    "        print(\"this is feature b form class A\")\n",
    "class B(A):\n",
    "    def __init__(self):\n",
    "        super().__init__()\n",
    "        print(\"this is init form class B\")\n",
    "   \n",
    "    def feature3(self):\n",
    "        print(\"this is feature 3 form class B\")\n",
    "b=B()\n",
    "#when you create object of sub class it will call init of sub class first if you have super class\n",
    "# then it will first call init of super class then call init of sub class\n"
   ]
  },
  {
   "cell_type": "code",
   "execution_count": null,
   "id": "4cd52f8e",
   "metadata": {},
   "outputs": [],
   "source": [
    "#simply guess whaat is output of this program\n",
    "class A:\n",
    "    def __init__(self):\n",
    "        print(\"init form class A\")\n",
    "    def feature1(self):\n",
    "        print(\"this is feature 1 form class A\")\n",
    "    def feature2(self):\n",
    "        print(\"this is feature b form class A\")\n",
    "class B:\n",
    "    def __init__(self):\n",
    "        print(\"init form class B\")\n",
    "   \n",
    "    def feature3(self):\n",
    "        print(\"this is feature 3 form class B\")\n",
    "        \n",
    "class C(A,B):\n",
    "    def __init__(self):\n",
    "        print(\"init form class c\")\n",
    "   \n",
    "    def feature4(self):\n",
    "        print(\"this is feature 3 form class B\")\n",
    "obj_c=C()"
   ]
  },
  {
   "cell_type": "code",
   "execution_count": null,
   "id": "876048f5",
   "metadata": {},
   "outputs": [],
   "source": [
    "class A:\n",
    "    def __init__(self):\n",
    "        print(\"init form class A\")\n",
    "    def feature1(self):\n",
    "        print(\"this is feature 1 form class A\")\n",
    "    def feature2(self):\n",
    "        print(\"this is feature b form class A\")\n",
    "class B:\n",
    "    def __init__(self):\n",
    "        print(\"init form class B\")\n",
    "   \n",
    "    def feature3(self):\n",
    "        print(\"this is feature 3 form class B\")\n",
    "        \n",
    "class C(A,B):\n",
    "    def __init__(self):\n",
    "        super().__init__()\n",
    "        # it will print A init which is bais because both the class A and B have init() method\n",
    "        #this will not take B here\n",
    "        # to solve this porblem we have concept of MRO(method resolution order)\n",
    "        #whenever we have multiple inheritance it will always starts from left (i.e A here because \n",
    "#         C(A,B) A is first so A is in left) to right. remember it will always form left to right\n",
    "# same things are applied for method\n",
    "        print(\"init form class c\")\n",
    "   \n",
    "    def feature4(self):\n",
    "        print(\"this is feature 3 form class B\")\n",
    "    def feat(self):\n",
    "        super().feature2()\n",
    "obj_c=C()\n",
    "obj_c.feat()"
   ]
  },
  {
   "cell_type": "code",
   "execution_count": null,
   "id": "01204dfe",
   "metadata": {},
   "outputs": [],
   "source": [
    "# introduction to polymorphism\n",
    "# ploy+morph+ism = many+form that means one thing can take multiple form\n",
    "# object will have multiple form"
   ]
  },
  {
   "cell_type": "code",
   "execution_count": null,
   "id": "e90d1579",
   "metadata": {},
   "outputs": [],
   "source": [
    "#Duck Typing\n",
    "# i thing it is a like dynamic typing"
   ]
  },
  {
   "cell_type": "code",
   "execution_count": null,
   "id": "f10f46ba",
   "metadata": {},
   "outputs": [],
   "source": [
    "#operator overloading\n",
    "# 5+9 , + is operator\n",
    "# you have same method name but the argument are differnt or type of argument are differnt\n",
    "\n",
    "a=9\n",
    "b=8\n",
    "print(a+b)\n",
    "# a and b are int , int is a object and object have mehtod . behind the scenet print(a+b)\n",
    "# work like this\n",
    "print(int.__add__(a,b))\n",
    "# for string\n",
    "a='9'\n",
    "b='8'\n",
    "print(a+b)\n",
    "print(str.__add__(a,b))"
   ]
  },
  {
   "cell_type": "code",
   "execution_count": 1,
   "id": "4df4700c",
   "metadata": {},
   "outputs": [
    {
     "ename": "TypeError",
     "evalue": "unsupported operand type(s) for +: 'Student' and 'Student'",
     "output_type": "error",
     "traceback": [
      "\u001b[0;31m---------------------------------------------------------------------------\u001b[0m",
      "\u001b[0;31mTypeError\u001b[0m                                 Traceback (most recent call last)",
      "\u001b[0;32m/tmp/ipykernel_6852/291530263.py\u001b[0m in \u001b[0;36m<module>\u001b[0;34m\u001b[0m\n\u001b[1;32m      6\u001b[0m \u001b[0ms1\u001b[0m\u001b[0;34m=\u001b[0m\u001b[0mStudent\u001b[0m\u001b[0;34m(\u001b[0m\u001b[0;36m45\u001b[0m\u001b[0;34m,\u001b[0m\u001b[0;36m23\u001b[0m\u001b[0;34m)\u001b[0m\u001b[0;34m\u001b[0m\u001b[0;34m\u001b[0m\u001b[0m\n\u001b[1;32m      7\u001b[0m \u001b[0ms2\u001b[0m\u001b[0;34m=\u001b[0m\u001b[0mStudent\u001b[0m\u001b[0;34m(\u001b[0m\u001b[0;36m90\u001b[0m\u001b[0;34m,\u001b[0m\u001b[0;36m34\u001b[0m\u001b[0;34m)\u001b[0m\u001b[0;34m\u001b[0m\u001b[0;34m\u001b[0m\u001b[0m\n\u001b[0;32m----> 8\u001b[0;31m \u001b[0ms3\u001b[0m\u001b[0;34m=\u001b[0m\u001b[0ms1\u001b[0m\u001b[0;34m+\u001b[0m\u001b[0ms2\u001b[0m\u001b[0;34m\u001b[0m\u001b[0;34m\u001b[0m\u001b[0m\n\u001b[0m\u001b[1;32m      9\u001b[0m \u001b[0;34m\u001b[0m\u001b[0m\n",
      "\u001b[0;31mTypeError\u001b[0m: unsupported operand type(s) for +: 'Student' and 'Student'"
     ]
    }
   ],
   "source": [
    "# guess this \n",
    "class Student:\n",
    "    def __init__(self,m1,m2):\n",
    "        self.m1=m1\n",
    "        self.m2=m2\n",
    "s1=Student(45,23)\n",
    "s2=Student(90,34)\n",
    "s3=s1+s2\n",
    "        "
   ]
  },
  {
   "cell_type": "code",
   "execution_count": null,
   "id": "a541827b",
   "metadata": {},
   "outputs": [],
   "source": [
    "#  + meeans add but the add method is already define for int, str object but here we have Student\n",
    "#     objct for which there is not define a __add__ method .so error is occur"
   ]
  },
  {
   "cell_type": "code",
   "execution_count": 5,
   "id": "f03e35be",
   "metadata": {},
   "outputs": [
    {
     "name": "stdout",
     "output_type": "stream",
     "text": [
      "135\n"
     ]
    }
   ],
   "source": [
    "class Student:\n",
    "    def __init__(self,m1,m2):\n",
    "        self.m1=m1\n",
    "        self.m2=m2\n",
    "    def __add__(self, other):\n",
    "        m1 = self.m1 +other.m1\n",
    "        m2= self.m2+ other.m2\n",
    "        s3=Student(m1,m2)\n",
    "        return s3\n",
    "s1=Student(45,23)\n",
    "s2=Student(90,34)\n",
    "s3=s1+s2   # Student.__add__(s1,s2) where s1 is self and s2 is other\n",
    "print(s3.m1)"
   ]
  },
  {
   "cell_type": "code",
   "execution_count": 9,
   "id": "fc501926",
   "metadata": {},
   "outputs": [
    {
     "name": "stdout",
     "output_type": "stream",
     "text": [
      "s2 is greater\n"
     ]
    }
   ],
   "source": [
    "#write overloading for > operator\n",
    "class Student:\n",
    "    def __init__(self,m1,m2):\n",
    "        self.m1=m1\n",
    "        self.m2=m2\n",
    "    def __gt__(self, other):\n",
    "        m1 = self.m1 +self.m2\n",
    "        m2= other.m1+ other.m2\n",
    "        if m1>m2:\n",
    "            return True\n",
    "        else:\n",
    "            return False\n",
    "        return s3\n",
    "s1=Student(45,23)\n",
    "s2=Student(90,34)\n",
    "\n",
    "if s1>s2:\n",
    "    print(\"s1 is greater\")\n",
    "else:\n",
    "    print(\"s2 is greater\")"
   ]
  },
  {
   "cell_type": "code",
   "execution_count": 13,
   "id": "d502044a",
   "metadata": {},
   "outputs": [
    {
     "name": "stdout",
     "output_type": "stream",
     "text": [
      "135 57\n"
     ]
    }
   ],
   "source": [
    "# __str__method use\n",
    "a=9\n",
    "# print(a) will display 9 but if we print Student class object like pirint(s1) this will print addess\n",
    "# of s1. because by deafault when we call print(a) it call like this print(a.__str__())\n",
    "# we can implement __str__  in this case also\n",
    "class Student:\n",
    "    def __init__(self,m1,m2):\n",
    "        self.m1=m1\n",
    "        self.m2=m2\n",
    "    def __add__(self, other):\n",
    "        m1 = self.m1 +other.m1\n",
    "        m2= self.m2+ other.m2\n",
    "        s3=Student(m1,m2)\n",
    "        return s3\n",
    "    def __str__(self):\n",
    "        return '{} {}'.format(self.m1, self.m2)\n",
    "s1=Student(45,23)\n",
    "s2=Student(90,34)\n",
    "s3=s1+s2   # Student.__add__(s1,s2) where s1 is self and s2 is other\n",
    "print(s3)"
   ]
  },
  {
   "cell_type": "code",
   "execution_count": 14,
   "id": "25fd7cb5",
   "metadata": {},
   "outputs": [
    {
     "ename": "SyntaxError",
     "evalue": "invalid syntax (4208898730.py, line 6)",
     "output_type": "error",
     "traceback": [
      "\u001b[0;36m  File \u001b[0;32m\"/tmp/ipykernel_6852/4208898730.py\"\u001b[0;36m, line \u001b[0;32m6\u001b[0m\n\u001b[0;31m    def average(a,b)\u001b[0m\n\u001b[0m                    ^\u001b[0m\n\u001b[0;31mSyntaxError\u001b[0m\u001b[0;31m:\u001b[0m invalid syntax\n"
     ]
    }
   ],
   "source": [
    "# method overloading and method overriding\n",
    "# c++, java have method overloading but in python we have not method overloading\n",
    "# method overloading simply means we have name of method is same but parameter are differnt\n",
    "e.g \n",
    "class Student:\n",
    "    def average(a,b)\n",
    "    def average(a,b,c)\n",
    "python have no method overloading concept so we don't create two method with same name\n"
   ]
  },
  {
   "cell_type": "code",
   "execution_count": 18,
   "id": "96fa771d",
   "metadata": {},
   "outputs": [
    {
     "name": "stdout",
     "output_type": "stream",
     "text": [
      "i am override form class A\n"
     ]
    }
   ],
   "source": [
    "# method overriding\n",
    "class A:\n",
    "    def override(self):\n",
    "        print(\"i am override form class A\")\n",
    "class B(A):\n",
    "    def __init__(self):\n",
    "        self.age=12\n",
    "#     def override(self):\n",
    "#         print(\"i am override form class B\")\n",
    "b=B()\n",
    "b.override() # if we un commit override() method of class B it will override the class A's method"
   ]
  }
 ],
 "metadata": {
  "kernelspec": {
   "display_name": "Python 3 (ipykernel)",
   "language": "python",
   "name": "python3"
  },
  "language_info": {
   "codemirror_mode": {
    "name": "ipython",
    "version": 3
   },
   "file_extension": ".py",
   "mimetype": "text/x-python",
   "name": "python",
   "nbconvert_exporter": "python",
   "pygments_lexer": "ipython3",
   "version": "3.8.10"
  }
 },
 "nbformat": 4,
 "nbformat_minor": 5
}
