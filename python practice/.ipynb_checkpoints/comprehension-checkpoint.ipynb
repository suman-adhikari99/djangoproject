{
 "cells": [
  {
   "cell_type": "code",
   "execution_count": 5,
   "id": "d6f9f314",
   "metadata": {},
   "outputs": [
    {
     "name": "stdout",
     "output_type": "stream",
     "text": [
      "[2, 4, 6]\n"
     ]
    }
   ],
   "source": [
    "#with out list comprehension\n",
    "numbers = [1,2,3]\n",
    "doubled = []\n",
    "for x in numbers:\n",
    "    doubled.append(x*2)\n",
    "print(doubled)"
   ]
  },
  {
   "cell_type": "code",
   "execution_count": 7,
   "id": "03e8aa27",
   "metadata": {},
   "outputs": [
    {
     "name": "stdout",
     "output_type": "stream",
     "text": [
      "[2, 4, 6]\n"
     ]
    }
   ],
   "source": [
    "#by using list comprehension in above question\n",
    "numbers = [1,2,3]\n",
    "doubled = [x*2 for x in numbers]\n",
    "print(doubled)"
   ]
  },
  {
   "cell_type": "code",
   "execution_count": 9,
   "id": "dd39441d",
   "metadata": {},
   "outputs": [
    {
     "name": "stdout",
     "output_type": "stream",
     "text": [
      "['sam']\n"
     ]
    }
   ],
   "source": [
    "#another example with out list coprehension\n",
    "friends = [\"rolf\", \"sam\", \"jen\"]\n",
    "starts_s =[]\n",
    "for friend in friends:\n",
    "    if friend.startswith(\"s\"):\n",
    "        starts_s.append(friend)\n",
    "\n",
    "print(starts_s)\n",
    "\n"
   ]
  },
  {
   "cell_type": "code",
   "execution_count": 12,
   "id": "f211dd58",
   "metadata": {},
   "outputs": [
    {
     "name": "stdout",
     "output_type": "stream",
     "text": [
      "['sam']\n"
     ]
    }
   ],
   "source": [
    "#above example with list comprehension\n",
    "friends = [\"rolf\", \"sam\", \"jen\"]\n",
    "starts_s =[friend for friend in friends if friend.startswith(\"s\")]\n",
    "print(starts_s)\n"
   ]
  },
  {
   "cell_type": "code",
   "execution_count": 14,
   "id": "227f687c",
   "metadata": {},
   "outputs": [
    {
     "name": "stdout",
     "output_type": "stream",
     "text": [
      "{'bob': (0, 'bob', 'password'), 'forlf': (1, 'forlf', 'bolb123'), 'jose': (2, 'jose', 'longpassword'), 'username': (3, 'username', '123')}\n"
     ]
    }
   ],
   "source": [
    "#disctionary comprehension\n",
    "users = [\n",
    "    (0, \"bob\",\"password\"),\n",
    "    (1,\"forlf\", \"bolb123\"),\n",
    "    (2,\"jose\", \"longpassword\"),\n",
    "    (3, \"username\", \"123\")\n",
    "]\n",
    "\n",
    "username_mapping ={user[1]:user for user in users}\n",
    "print(username_mapping)\n"
   ]
  },
  {
   "cell_type": "code",
   "execution_count": 22,
   "id": "a238882b",
   "metadata": {},
   "outputs": [
    {
     "name": "stdout",
     "output_type": "stream",
     "text": [
      "9\n",
      "7\n",
      "10\n",
      "[2, 46, 8]\n",
      "[2, 46, 8]\n"
     ]
    }
   ],
   "source": [
    "#lambda function\n",
    "def add(x,y):\n",
    "    return x+y\n",
    "print((add(5,4)))\n",
    "\n",
    "addlambda=lambda x,y:x+y\n",
    "print(add(3,4))\n",
    "print((lambda x,y: x+y) (9,1)) #(9,1 ) is passed to lambda function for this lambda is sorrounded by bracket()\n",
    "sequence = [1,23,4]\n",
    "doubled =[(lambda x:x*2)(x) for x in sequence]\n",
    "print(doubled)\n",
    "\n",
    "doubles = list(map(lambda x:x*2, sequence))\n",
    "print(doubles)"
   ]
  },
  {
   "cell_type": "code",
   "execution_count": null,
   "id": "165f45ba",
   "metadata": {},
   "outputs": [],
   "source": [
    "#Find all of the numbers from 1–1000 that have a 6 in them\n",
    "have_6=[i for i in range(1-1000) if ]"
   ]
  }
 ],
 "metadata": {
  "kernelspec": {
   "display_name": "Python 3 (ipykernel)",
   "language": "python",
   "name": "python3"
  },
  "language_info": {
   "codemirror_mode": {
    "name": "ipython",
    "version": 3
   },
   "file_extension": ".py",
   "mimetype": "text/x-python",
   "name": "python",
   "nbconvert_exporter": "python",
   "pygments_lexer": "ipython3",
   "version": "3.8.10"
  }
 },
 "nbformat": 4,
 "nbformat_minor": 5
}
