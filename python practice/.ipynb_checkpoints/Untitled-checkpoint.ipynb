{
 "cells": [
  {
   "cell_type": "code",
   "execution_count": 5,
   "id": "10052de4",
   "metadata": {},
   "outputs": [
    {
     "name": "stdout",
     "output_type": "stream",
     "text": [
      "[2, 4, 6]\n"
     ]
    }
   ],
   "source": [
    "#with out list comprehension\n",
    "numbers = [1,2,3]\n",
    "doubled = []\n",
    "for x in numbers:\n",
    "    doubled.append(x*2)\n",
    "print(doubled)"
   ]
  },
  {
   "cell_type": "code",
   "execution_count": 7,
   "id": "64a844f5",
   "metadata": {},
   "outputs": [
    {
     "name": "stdout",
     "output_type": "stream",
     "text": [
      "[2, 4, 6]\n"
     ]
    }
   ],
   "source": [
    "#by using list comprehension in above question\n",
    "numbers = [1,2,3]\n",
    "doubled = [x*2 for x in numbers]\n",
    "print(doubled)"
   ]
  },
  {
   "cell_type": "code",
   "execution_count": 9,
   "id": "0ffca716",
   "metadata": {},
   "outputs": [
    {
     "name": "stdout",
     "output_type": "stream",
     "text": [
      "['sam']\n"
     ]
    }
   ],
   "source": [
    "#another example with out list coprehension\n",
    "friends = [\"rolf\", \"sam\", \"jen\"]\n",
    "starts_s =[]\n",
    "for friend in friends:\n",
    "    if friend.startswith(\"s\"):\n",
    "        starts_s.append(friend)\n",
    "\n",
    "print(starts_s)\n",
    "\n"
   ]
  },
  {
   "cell_type": "code",
   "execution_count": 12,
   "id": "642f22f7",
   "metadata": {},
   "outputs": [
    {
     "name": "stdout",
     "output_type": "stream",
     "text": [
      "['sam']\n"
     ]
    }
   ],
   "source": [
    "#above example with list comprehension\n",
    "friends = [\"rolf\", \"sam\", \"jen\"]\n",
    "starts_s =[friend for friend in friends if friend.startswith(\"s\")]\n",
    "print(starts_s)\n"
   ]
  },
  {
   "cell_type": "code",
   "execution_count": 14,
   "id": "1001bb45",
   "metadata": {},
   "outputs": [
    {
     "name": "stdout",
     "output_type": "stream",
     "text": [
      "{'bob': (0, 'bob', 'password'), 'forlf': (1, 'forlf', 'bolb123'), 'jose': (2, 'jose', 'longpassword'), 'username': (3, 'username', '123')}\n"
     ]
    }
   ],
   "source": [
    "#disctionary comprehension\n",
    "users = [\n",
    "    (0, \"bob\",\"password\"),\n",
    "    (1,\"forlf\", \"bolb123\"),\n",
    "    (2,\"jose\", \"longpassword\"),\n",
    "    (3, \"username\", \"123\")\n",
    "]\n",
    "\n",
    "username_mapping ={user[1]:user for user in users}\n",
    "print(username_mapping)\n"
   ]
  },
  {
   "cell_type": "code",
   "execution_count": 20,
   "id": "7af59de2",
   "metadata": {},
   "outputs": [
    {
     "name": "stdout",
     "output_type": "stream",
     "text": [
      "9\n",
      "7\n",
      "10\n"
     ]
    }
   ],
   "source": [
    "#lambda function\n",
    "def add(x,y):\n",
    "    return x+y\n",
    "print((add(5,4)))\n",
    "\n",
    "addlambda=lambda x,y:x+y\n",
    "print(add(3,4))\n",
    "print((lambda x,y: x+y) (9,1)) #(9,1 ) is passed to lambda function for this lambda is sorrounded by bracket()\n",
    "\n"
   ]
  },
  {
   "cell_type": "code",
   "execution_count": null,
   "id": "c8abdb4f",
   "metadata": {},
   "outputs": [],
   "source": []
  }
 ],
 "metadata": {
  "kernelspec": {
   "display_name": "Python 3 (ipykernel)",
   "language": "python",
   "name": "python3"
  },
  "language_info": {
   "codemirror_mode": {
    "name": "ipython",
    "version": 3
   },
   "file_extension": ".py",
   "mimetype": "text/x-python",
   "name": "python",
   "nbconvert_exporter": "python",
   "pygments_lexer": "ipython3",
   "version": "3.8.10"
  }
 },
 "nbformat": 4,
 "nbformat_minor": 5
}
