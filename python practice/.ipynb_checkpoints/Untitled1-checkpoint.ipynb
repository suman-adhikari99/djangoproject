{
 "cells": [
  {
   "cell_type": "code",
   "execution_count": 2,
   "id": "c282c4bb",
   "metadata": {},
   "outputs": [],
   "source": [
    "# getter and setter in oop\n",
    "#Getters:- These are the methods used in Object-Oriented Programming (OOPS) which helps to access the private \n",
    "#attributes from a class.\n",
    "\n",
    "#Setters:- These are the methods used in OOPS feature which helps to set the value to private attributes in a class."
   ]
  },
  {
   "cell_type": "code",
   "execution_count": null,
   "id": "9a02f44d",
   "metadata": {},
   "outputs": [],
   "source": [
    "# smaple of getter and setter\n",
    "class Sample:\n",
    "    def __init__(self,name=\"\"):\n",
    "        self.name=name\n",
    "    #USING THE SETTER METHOD\n",
    "    def set_value(self,name):\n",
    "        self.name=name\n",
    "    #USING THE GETTER METHOD\n",
    "    def get_value(self):\n",
    "        return self.name\n",
    "    \n",
    "call_set=Sample()"
   ]
  },
  {
   "cell_type": "code",
   "execution_count": null,
   "id": "28e53c3f",
   "metadata": {},
   "outputs": [],
   "source": []
  }
 ],
 "metadata": {
  "kernelspec": {
   "display_name": "Python 3 (ipykernel)",
   "language": "python",
   "name": "python3"
  },
  "language_info": {
   "codemirror_mode": {
    "name": "ipython",
    "version": 3
   },
   "file_extension": ".py",
   "mimetype": "text/x-python",
   "name": "python",
   "nbconvert_exporter": "python",
   "pygments_lexer": "ipython3",
   "version": "3.8.10"
  }
 },
 "nbformat": 4,
 "nbformat_minor": 5
}
