{
 "cells": [
  {
   "cell_type": "code",
   "execution_count": 1,
   "id": "6ff42d96",
   "metadata": {},
   "outputs": [],
   "source": [
    "#string manipulation in python\n",
    "#Python strings are \"immutable\" which means they cannot be changed after they are created.\n",
    "#string are array\n",
    "#The syntax for range slicing is the following: [Start index (included): Stop index (excluded)]"
   ]
  },
  {
   "cell_type": "code",
   "execution_count": 16,
   "id": "79fbba3e",
   "metadata": {},
   "outputs": [
    {
     "name": "stdout",
     "output_type": "stream",
     "text": [
      "my name is suman\n"
     ]
    }
   ],
   "source": [
    "my_string=\"my name is suman\"\n",
    "# print(my_string[0:])\n",
    "# for i in range(len(my_string)):\n",
    "#     print('{}:{}'.format(i,my_string[i]))\n",
    "# print(my_string[0:5])\n",
    "print(my_string[:])"
   ]
  },
  {
   "cell_type": "code",
   "execution_count": 31,
   "id": "bf3a52b7",
   "metadata": {},
   "outputs": [
    {
     "name": "stdout",
     "output_type": "stream",
     "text": [
      "maiu\n",
      "m aei ua\n",
      "namus si eman ym\n",
      "nmss mny\n"
     ]
    }
   ],
   "source": [
    "#String slicing can also accept a third parameter, the stride, which refers to how many \n",
    "#characters you want to move forward after the first character is retrieved from the string.\n",
    "#The value of stride is set to 1 by default.\n",
    "print(my_string[::4])\n",
    "print(my_string[::2])\n",
    "print(my_string[::-1])#The value of -1 for the stride allows you to start from the end character\n",
    "                        #and then move one character at a time.\n",
    "print(my_string[::-2]) # third parameter le kun side bata start garne ani kati ota esape garne \n",
    "                        #kura lae represent garx"
   ]
  },
  {
   "cell_type": "code",
   "execution_count": 35,
   "id": "e5016f9f",
   "metadata": {},
   "outputs": [
    {
     "name": "stdout",
     "output_type": "stream",
     "text": [
      "hello hello hello hello hello hello hello \n"
     ]
    }
   ],
   "source": [
    "# common string function\n",
    "# concatinate (+)\n",
    "# repeat *\n",
    "print(\"hello \"*7)\n",
    "# str.capitalize(): returns a copy of the string with its first character capitalized.\n",
    "# str.islower(): returns true if all characters in the string are lowercase, false otherwise\n",
    "# str.count(substring): counts how many times a substring occurs in the string\n",
    "# str.isdigit()\n",
    "# str.lstrip(): removes all leading whitespace in string."
   ]
  },
  {
   "cell_type": "code",
   "execution_count": 37,
   "id": "89ed5045",
   "metadata": {},
   "outputs": [
    {
     "data": {
      "text/plain": [
       "12"
      ]
     },
     "execution_count": 37,
     "metadata": {},
     "output_type": "execute_result"
    }
   ],
   "source": [
    "str1 = 'I got you a cookie'\n",
    "str2 = 'cook'\n",
    "str1.find(str2) # string xa vane tyo string start vako index retrun garx , xoin vane -1 return garx\n"
   ]
  },
  {
   "cell_type": "code",
   "execution_count": 50,
   "id": "dce10aec",
   "metadata": {},
   "outputs": [
    {
     "name": "stdout",
     "output_type": "stream",
     "text": [
      "sum\n",
      "1 -5 2 -5 3 -5 4\n"
     ]
    }
   ],
   "source": [
    "#join() vs +\n",
    "# The join() method takes iterable – objects capable of returning their members one at a time. \n",
    "# Some examples are List, Tuple, String, Dictionary, and Set\n",
    "string = \"s\" \"u\" \"m\"\n",
    "s=\"\"\n",
    "print(s.join(string))\n",
    "# print(string+s)\n",
    " \n",
    "    \n",
    "list1 = ['1','2','3','4'] \n",
    "  \n",
    "s = \" -5 \"\n",
    "  \n",
    "# joins elements of list1 by '-'\n",
    "# and stores in sting s\n",
    "s = s.join(list1)\n",
    "  \n",
    "# join use to join a list of\n",
    "# strings to a separator s\n",
    "print(s)\n",
    "\n"
   ]
  },
  {
   "cell_type": "code",
   "execution_count": 55,
   "id": "77f5a63a",
   "metadata": {},
   "outputs": [
    {
     "data": {
      "text/plain": [
       "['suman', 'g']"
      ]
     },
     "execution_count": 55,
     "metadata": {},
     "output_type": "execute_result"
    }
   ],
   "source": [
    "#replace\n",
    "name=\"suman\"\n",
    "name.replace('s','j')\n",
    "# pahila variable_ko_name.method\n",
    "name.split()"
   ]
  }
 ],
 "metadata": {
  "kernelspec": {
   "display_name": "Python 3 (ipykernel)",
   "language": "python",
   "name": "python3"
  },
  "language_info": {
   "codemirror_mode": {
    "name": "ipython",
    "version": 3
   },
   "file_extension": ".py",
   "mimetype": "text/x-python",
   "name": "python",
   "nbconvert_exporter": "python",
   "pygments_lexer": "ipython3",
   "version": "3.8.10"
  }
 },
 "nbformat": 4,
 "nbformat_minor": 5
}
