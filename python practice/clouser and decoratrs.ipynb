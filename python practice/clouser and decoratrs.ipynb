{
 "cells": [
  {
   "cell_type": "code",
   "execution_count": 5,
   "id": "1c62801a",
   "metadata": {},
   "outputs": [
    {
     "name": "stdout",
     "output_type": "stream",
     "text": [
      "function calling by f variable 49and this is from  normal function81\n"
     ]
    }
   ],
   "source": [
    "#decorators \n",
    "#assign function to variable not execute and execute from variable\n",
    "def square(x):\n",
    "    return x*x\n",
    "f=square(9)   # this f have return value of square()\n",
    "f=square      # this f have refernce of square function not value\n",
    "print(f\"function calling by f variable {f(7)}and this is from  normal function{square(9)}\" )"
   ]
  },
  {
   "cell_type": "code",
   "execution_count": 11,
   "id": "23e5723d",
   "metadata": {},
   "outputs": [
    {
     "name": "stdout",
     "output_type": "stream",
     "text": [
      "11\n"
     ]
    }
   ],
   "source": [
    "#Nested function in python\n",
    "def outer_function(): # <---- this is enclosing function\n",
    "    x=10 # <---- enclosing funtion\n",
    "    x =x+1\n",
    "    ## write your statement here\n",
    "    ## this outer function cann't able to use variable from local scope\n",
    "    def inner_function():\n",
    "        print(x) # this has capacity to capture parent functions variable\n",
    "        # write your statement here\n",
    "        # everthing inside nested function are local or nested scope\n",
    "    inner_function()\n",
    "    \n",
    "outer_function()\n"
   ]
  },
  {
   "cell_type": "code",
   "execution_count": 33,
   "id": "008d9a83",
   "metadata": {},
   "outputs": [
    {
     "name": "stdout",
     "output_type": "stream",
     "text": [
      "outside\n",
      "inside\n",
      "15\n",
      "None\n",
      "81\n"
     ]
    }
   ],
   "source": [
    "#what is closure\n",
    "#->a clouser is a function object that remembers values in enclosing scopes even if they are not present in memory\n",
    "# - clouser provides some formo f data hiding\n",
    "# - they are used in python decorators\n",
    "def outside(x):\n",
    "    print(\"outside\")\n",
    "    def inside(y):\n",
    "        print(\"inside\")\n",
    "        print(x+y)\n",
    "        \n",
    "    return inside  # -> inside function lai execute gareko xoin , yesle reference return garx\n",
    "                    # you clousere ko simpleset example ho , yesle enclosing scope ko vlaue lae remember garx \n",
    "                    # evne if they are not present in the memory. \n",
    "a=outside(12)  # -> outside(X) lae call gareko xa tehi vayar outside() execute hunx but\n",
    "                # outside execute vaisake paxi inside pani outeside vitra nested vayako le inside ko chahi \n",
    "               # reference matra aaux a variable kinki inside le inside lae call nagari return gareko xa \n",
    "        \n",
    "del outside\n",
    "#outside(9)  # outside function del vaisakeko le garda name error throw garx\n",
    "print(a (3)) # even after deleting the outside function a remeber the enclosing socpe i.e value of x in our case\n",
    "\n",
    "\n",
    "\n",
    "\n",
    "# second example \n",
    "def nth_power(exponent):\n",
    "    def pow_of(base):\n",
    "        return pow(base,exponent)\n",
    "    return pow_of\n",
    "\n",
    "square = nth_power(2)\n",
    "\n",
    "print(square(9))\n"
   ]
  },
  {
   "cell_type": "code",
   "execution_count": 39,
   "id": "35a5c591",
   "metadata": {},
   "outputs": [
    {
     "name": "stdout",
     "output_type": "stream",
     "text": [
      "sushmee is sunshine for some one . she is very beautiful\n"
     ]
    }
   ],
   "source": [
    "#  A function can be passed to another function as an argument.\n",
    "def sushmee(sun):\n",
    "    sunshine()\n",
    "    \n",
    "def sunshine():\n",
    "    print(\"sushmee is sunshine for some one . she is very beautiful\")\n",
    "sushmee(sunshine)\n",
    "\n",
    "    "
   ]
  },
  {
   "cell_type": "code",
   "execution_count": 42,
   "id": "810b1edb",
   "metadata": {},
   "outputs": [],
   "source": [
    "#decorator -> which adds additionals functionalilty without touching the function\n",
    "# decorator le as an argument function lae linx ani retrun pani function lae ani garx\n",
    "\n",
    "\n",
    "#To create a decorator function in Python, I create an outer function that takes a function as an argument. \n",
    "#There is also an inner function that wraps around the decorated function.\n",
    "#Here is the syntax for a basic Python decorator:\n",
    "def my_decorator_func(func):\n",
    "\n",
    "    def wrapper_func():\n",
    "        # Do something before the function.\n",
    "        func()\n",
    "        # Do something after the function.\n",
    "    return wrapper_func\n"
   ]
  },
  {
   "cell_type": "code",
   "execution_count": 61,
   "id": "df3a8660",
   "metadata": {},
   "outputs": [
    {
     "name": "stdout",
     "output_type": "stream",
     "text": [
      "jobless person\n",
      "what is your job\n"
     ]
    }
   ],
   "source": [
    "# decorator example\n",
    "def suman(func):\n",
    "    def work():\n",
    "        #do something after the function call i.e do() is our case\n",
    "        print(\"jobless person\")\n",
    "        func()        # this execute do function which is accept by suman(func) as parameter\n",
    "        #do something before the function call\n",
    "        \n",
    "    return work\n",
    "@suman            #To use a decorator ,you attach it to a function like you see in the code below. \n",
    "                   #We use a decorator by placing the name of the decorator directly above the function we want \n",
    "                   #to use it on. You prefix the decorator function with an @ symbol.\n",
    "def do():\n",
    "    print(\"what is your job\")\n",
    "do()   "
   ]
  },
  {
   "cell_type": "code",
   "execution_count": 87,
   "id": "dd2c8f80",
   "metadata": {},
   "outputs": [
    {
     "name": "stdout",
     "output_type": "stream",
     "text": [
      "()\n",
      "{'age': 77, 'name': 'suman'}\n",
      "jobless person\n",
      "what is your job\n"
     ]
    }
   ],
   "source": [
    "# how to add argument to decorator\n",
    "#Decorators can have arguments passed to them. To add arguments to decorators I add *args and **kwargs to the inner functions.\n",
    "# free code camp\n",
    "def suman(func):\n",
    "    def work(*args, **kwargs):\n",
    "        print(args)\n",
    "        print(kwargs)\n",
    "        print(\"jobless person\")\n",
    "        func()      \n",
    "        \n",
    "    return work\n",
    "@suman            \n",
    "def do(*args, **kwargs):\n",
    "    print(\"what is your job\")\n",
    "   \n",
    "    \n",
    "    for arg, value in kwargs.items():\n",
    "        print(f\"{arg}:{value}\")\n",
    "do(age=77,name=\"suman\")   "
   ]
  },
  {
   "cell_type": "code",
   "execution_count": 94,
   "id": "affc7385",
   "metadata": {},
   "outputs": [
    {
     "name": "stdout",
     "output_type": "stream",
     "text": [
      "()\n",
      "{'age': 77, 'name': 'suman'}\n",
      "jobless person\n",
      "what is your job\n",
      "this function name is :work\n"
     ]
    }
   ],
   "source": [
    "#Decorators hide the function they are decorating. If I check the __name__ or __doc__ method we get \n",
    "#an unexpected result.\n",
    "\n",
    "def suman(func):\n",
    "    def work(*args, **kwargs):\n",
    "        print(args)\n",
    "        print(kwargs)\n",
    "        print(\"jobless person\")\n",
    "        func()      \n",
    "        \n",
    "    return work\n",
    "@suman            \n",
    "def do(*args, **kwargs):\n",
    "    print(\"what is your job\")\n",
    "   \n",
    "    \n",
    "    for arg, value in kwargs.items():\n",
    "        print(f\"{arg}:{value}\")\n",
    "do(age=77,name=\"suman\")   \n",
    "print(f\"this function name is :{do.__name__}\")  # yesle do return garnu parne thiyo tar do ma decorator lagko huna le do lae hide garaux . tes \n",
    "                    #solve garn functool bata @wraps use garn sakinx"
   ]
  },
  {
   "cell_type": "code",
   "execution_count": 93,
   "id": "02d998f0",
   "metadata": {},
   "outputs": [
    {
     "name": "stdout",
     "output_type": "stream",
     "text": [
      "{'age': 77, 'name': 'suman'}\n",
      "jobless person\n",
      "what is your job\n",
      "this function name is do\n"
     ]
    }
   ],
   "source": [
    "#To fix this issue I will use functools. Functools wraps will update the decorator with the decorated \n",
    "#functions attributes.\n",
    "from functools import wraps\n",
    "def suman(func):\n",
    "    @wraps(func)\n",
    "    def work(*args, **kwargs):\n",
    "        print(kwargs)\n",
    "        print(\"jobless person\")\n",
    "        func()      \n",
    "        \n",
    "    return work\n",
    "@suman            \n",
    "def do(*args, **kwargs):\n",
    "    print(\"what is your job\")\n",
    "   \n",
    "    \n",
    "    for arg, value in kwargs.items():\n",
    "        print(f\"{arg}:{value}\")\n",
    "do(age=77,name=\"suman\")   \n",
    "print(f\"this function name is :{do.__name__}\") "
   ]
  }
 ],
 "metadata": {
  "kernelspec": {
   "display_name": "Python 3 (ipykernel)",
   "language": "python",
   "name": "python3"
  },
  "language_info": {
   "codemirror_mode": {
    "name": "ipython",
    "version": 3
   },
   "file_extension": ".py",
   "mimetype": "text/x-python",
   "name": "python",
   "nbconvert_exporter": "python",
   "pygments_lexer": "ipython3",
   "version": "3.8.10"
  }
 },
 "nbformat": 4,
 "nbformat_minor": 5
}
