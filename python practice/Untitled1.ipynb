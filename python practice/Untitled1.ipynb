{
 "cells": [
  {
   "cell_type": "code",
   "execution_count": 2,
   "id": "bbe7841c",
   "metadata": {},
   "outputs": [],
   "source": [
    "# getter and setter in oop\n",
    "#Getters:- These are the methods used in Object-Oriented Programming (OOPS) which helps to access the private \n",
    "#attributes from a class.\n",
    "\n",
    "#Setters:- These are the methods used in OOPS feature which helps to set the value to private attributes in a class."
   ]
  },
  {
   "cell_type": "code",
   "execution_count": 5,
   "id": "1a0ae0a5",
   "metadata": {},
   "outputs": [
    {
     "name": "stdout",
     "output_type": "stream",
     "text": [
      "9\n"
     ]
    }
   ],
   "source": [
    "# smaple of getter and setter\n",
    "class Sample:\n",
    "    def __init__(self,name=\"\"):# to use getter setter default argument is best way of practice\n",
    "        self.name=name\n",
    "    #USING THE SETTER METHOD\n",
    "    def set_value(self,name):\n",
    "        self.name=name\n",
    "    #USING THE GETTER METHOD\n",
    "    def get_value(self):\n",
    "        return self.name\n",
    "    \n",
    "call_set=Sample()\n",
    "call_set.set_value(9)\n",
    "print(call_set.get_value())"
   ]
  },
  {
   "cell_type": "code",
   "execution_count": 6,
   "id": "596c86ce",
   "metadata": {},
   "outputs": [],
   "source": [
    "#In Python, property() is a built-in function for creating and returning a property object. \n",
    "#There are three methods on a property object: getter(), setter(), and delete()."
   ]
  },
  {
   "cell_type": "code",
   "execution_count": 17,
   "id": "091aa1fe",
   "metadata": {},
   "outputs": [
    {
     "name": "stdout",
     "output_type": "stream",
     "text": [
      "setter method\n",
      "getter method\n",
      "25\n"
     ]
    }
   ],
   "source": [
    "class Javatpoint:   \n",
    "     def __init__(self):   \n",
    "          self._age = 0  \n",
    "         \n",
    "     # using the getter function   \n",
    "     @property  \n",
    "     def age(self):   \n",
    "         print(\"getter method\")   \n",
    "         return self._age   \n",
    "         \n",
    "     #now, using the setter function   \n",
    "     @age.setter   \n",
    "     def age(self, x):   \n",
    "         if(x < 20):   \n",
    "            raise ValueError(\"the age is below eligibility criteria\")   \n",
    "         print(\"setter method\")   \n",
    "         self._age = x   \n",
    "    \n",
    "John = Javatpoint()   \n",
    "    \n",
    "John.age = 25  \n",
    "    \n",
    "print(John.age)   "
   ]
  },
  {
   "cell_type": "code",
   "execution_count": 24,
   "id": "3131b156",
   "metadata": {},
   "outputs": [
    {
     "name": "stdout",
     "output_type": "stream",
     "text": [
      "<__main__.Property_Method object at 0x7f79ace67c40>\n"
     ]
    },
    {
     "ename": "TypeError",
     "evalue": "value() missing 1 required positional argument: 'job'",
     "output_type": "error",
     "traceback": [
      "\u001b[0;31m---------------------------------------------------------------------------\u001b[0m",
      "\u001b[0;31mTypeError\u001b[0m                                 Traceback (most recent call last)",
      "\u001b[0;32m/tmp/ipykernel_6899/1837738762.py\u001b[0m in \u001b[0;36m<module>\u001b[0;34m\u001b[0m\n\u001b[1;32m     17\u001b[0m \u001b[0mobj\u001b[0m \u001b[0;34m=\u001b[0m \u001b[0mProperty_Method\u001b[0m\u001b[0;34m(\u001b[0m\u001b[0;34m)\u001b[0m\u001b[0;34m\u001b[0m\u001b[0;34m\u001b[0m\u001b[0m\n\u001b[1;32m     18\u001b[0m \u001b[0mprint\u001b[0m\u001b[0;34m(\u001b[0m\u001b[0mobj\u001b[0m\u001b[0;34m)\u001b[0m\u001b[0;34m\u001b[0m\u001b[0;34m\u001b[0m\u001b[0m\n\u001b[0;32m---> 19\u001b[0;31m \u001b[0mobj\u001b[0m\u001b[0;34m.\u001b[0m\u001b[0mvalue\u001b[0m\u001b[0;34m=\u001b[0m\u001b[0;34m\"suman\"\u001b[0m\u001b[0;34m,\u001b[0m\u001b[0;34m\"python\"\u001b[0m\u001b[0;34m\u001b[0m\u001b[0;34m\u001b[0m\u001b[0m\n\u001b[0m",
      "\u001b[0;31mTypeError\u001b[0m: value() missing 1 required positional argument: 'job'"
     ]
    }
   ],
   "source": [
    "class Property_Method:\n",
    "    def __init__(self):\n",
    "        self.age=None\n",
    "        self.job=None\n",
    "    @property\n",
    "    def value(self):\n",
    "        print(\"we have call getter\")\n",
    "        return (self.age, self.job)\n",
    "    @value.setter\n",
    "    def value(self,age,job):\n",
    "        print(\"you have call setter method\")\n",
    "        self.name=name\n",
    "        self.job=age\n",
    "  \n",
    "        \n",
    "        \n",
    "obj = Property_Method()\n",
    "print(obj)\n",
    "obj.value=\"suman\",\"python\""
   ]
  }
 ],
 "metadata": {
  "kernelspec": {
   "display_name": "Python 3 (ipykernel)",
   "language": "python",
   "name": "python3"
  },
  "language_info": {
   "codemirror_mode": {
    "name": "ipython",
    "version": 3
   },
   "file_extension": ".py",
   "mimetype": "text/x-python",
   "name": "python",
   "nbconvert_exporter": "python",
   "pygments_lexer": "ipython3",
   "version": "3.8.10"
  }
 },
 "nbformat": 4,
 "nbformat_minor": 5
}
