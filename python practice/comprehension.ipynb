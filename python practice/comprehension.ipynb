{
 "cells": [
  {
   "cell_type": "code",
   "execution_count": 5,
   "id": "d6f9f314",
   "metadata": {},
   "outputs": [
    {
     "name": "stdout",
     "output_type": "stream",
     "text": [
      "[2, 4, 6]\n"
     ]
    }
   ],
   "source": [
    "#with out list comprehension\n",
    "numbers = [1,2,3]\n",
    "doubled = []\n",
    "for x in numbers:\n",
    "    doubled.append(x*2)\n",
    "print(doubled)"
   ]
  },
  {
   "cell_type": "code",
   "execution_count": 7,
   "id": "03e8aa27",
   "metadata": {},
   "outputs": [
    {
     "name": "stdout",
     "output_type": "stream",
     "text": [
      "[2, 4, 6]\n"
     ]
    }
   ],
   "source": [
    "#by using list comprehension in above question\n",
    "numbers = [1,2,3]\n",
    "doubled = [x*2 for x in numbers]\n",
    "print(doubled)"
   ]
  },
  {
   "cell_type": "code",
   "execution_count": 9,
   "id": "dd39441d",
   "metadata": {},
   "outputs": [
    {
     "name": "stdout",
     "output_type": "stream",
     "text": [
      "['sam']\n"
     ]
    }
   ],
   "source": [
    "#another example with out list coprehension\n",
    "friends = [\"rolf\", \"sam\", \"jen\"]\n",
    "starts_s =[]\n",
    "for friend in friends:\n",
    "    if friend.startswith(\"s\"):\n",
    "        starts_s.append(friend)\n",
    "\n",
    "print(starts_s)\n",
    "\n"
   ]
  },
  {
   "cell_type": "code",
   "execution_count": 12,
   "id": "f211dd58",
   "metadata": {},
   "outputs": [
    {
     "name": "stdout",
     "output_type": "stream",
     "text": [
      "['sam']\n"
     ]
    }
   ],
   "source": [
    "#above example with list comprehension\n",
    "friends = [\"rolf\", \"sam\", \"jen\"]\n",
    "starts_s =[friend for friend in friends if friend.startswith(\"s\")]\n",
    "print(starts_s)\n"
   ]
  },
  {
   "cell_type": "code",
   "execution_count": 14,
   "id": "227f687c",
   "metadata": {},
   "outputs": [
    {
     "name": "stdout",
     "output_type": "stream",
     "text": [
      "{'bob': (0, 'bob', 'password'), 'forlf': (1, 'forlf', 'bolb123'), 'jose': (2, 'jose', 'longpassword'), 'username': (3, 'username', '123')}\n"
     ]
    }
   ],
   "source": [
    "#disctionary comprehension\n",
    "users = [\n",
    "    (0, \"bob\",\"password\"),\n",
    "    (1,\"forlf\", \"bolb123\"),\n",
    "    (2,\"jose\", \"longpassword\"),\n",
    "    (3, \"username\", \"123\")\n",
    "]\n",
    "\n",
    "username_mapping ={user[1]:user for user in users}\n",
    "print(username_mapping)\n"
   ]
  },
  {
   "cell_type": "code",
   "execution_count": 22,
   "id": "a238882b",
   "metadata": {},
   "outputs": [
    {
     "name": "stdout",
     "output_type": "stream",
     "text": [
      "9\n",
      "7\n",
      "10\n",
      "[2, 46, 8]\n",
      "[2, 46, 8]\n"
     ]
    }
   ],
   "source": [
    "#lambda function\n",
    "def add(x,y):\n",
    "    return x+y\n",
    "print((add(5,4)))\n",
    "\n",
    "addlambda=lambda x,y:x+y\n",
    "print(add(3,4))\n",
    "print((lambda x,y: x+y) (9,1)) #(9,1 ) is passed to lambda function for this lambda is sorrounded by bracket()\n",
    "sequence = [1,23,4]\n",
    "doubled =[(lambda x:x*2)(x) for x in sequence]\n",
    "print(doubled)\n",
    "\n",
    "doubles = list(map(lambda x:x*2, sequence))\n",
    "print(doubles)"
   ]
  },
  {
   "cell_type": "code",
   "execution_count": 13,
   "id": "165f45ba",
   "metadata": {},
   "outputs": [
    {
     "name": "stdout",
     "output_type": "stream",
     "text": [
      "[0, 1, 2, 3, 4, 5, 6, 7, 8, 9]\n"
     ]
    }
   ],
   "source": [
    "#generate first 10 number\n",
    "numbers =[i for i in range(0,10) ]\n",
    "print(numbers)"
   ]
  },
  {
   "cell_type": "code",
   "execution_count": 19,
   "id": "5522ab93",
   "metadata": {},
   "outputs": [
    {
     "name": "stdout",
     "output_type": "stream",
     "text": [
      "[6, 16, 26, 36, 46, 56, 60, 61, 62, 63, 64, 65, 66, 67, 68, 69, 76, 86, 96, 106, 116, 126, 136, 146, 156, 160, 161, 162, 163, 164, 165, 166, 167, 168, 169, 176, 186, 196, 206, 216, 226, 236, 246, 256, 260, 261, 262, 263, 264, 265, 266, 267, 268, 269, 276, 286, 296, 306, 316, 326, 336, 346, 356, 360, 361, 362, 363, 364, 365, 366, 367, 368, 369, 376, 386, 396, 406, 416, 426, 436, 446, 456, 460, 461, 462, 463, 464, 465, 466, 467, 468, 469, 476, 486, 496, 506, 516, 526, 536, 546, 556, 560, 561, 562, 563, 564, 565, 566, 567, 568, 569, 576, 586, 596, 600, 601, 602, 603, 604, 605, 606, 607, 608, 609, 610, 611, 612, 613, 614, 615, 616, 617, 618, 619, 620, 621, 622, 623, 624, 625, 626, 627, 628, 629, 630, 631, 632, 633, 634, 635, 636, 637, 638, 639, 640, 641, 642, 643, 644, 645, 646, 647, 648, 649, 650, 651, 652, 653, 654, 655, 656, 657, 658, 659, 660, 661, 662, 663, 664, 665, 666, 667, 668, 669, 670, 671, 672, 673, 674, 675, 676, 677, 678, 679, 680, 681, 682, 683, 684, 685, 686, 687, 688, 689, 690, 691, 692, 693, 694, 695, 696, 697, 698, 699, 706, 716, 726, 736, 746, 756, 760, 761, 762, 763, 764, 765, 766, 767, 768, 769, 776, 786, 796, 806, 816, 826, 836, 846, 856, 860, 861, 862, 863, 864, 865, 866, 867, 868, 869, 876, 886, 896, 906, 916, 926, 936, 946, 956, 960, 961, 962, 963, 964, 965, 966, 967, 968, 969, 976, 986, 996]\n"
     ]
    }
   ],
   "source": [
    "#Find all of the numbers from 1–1000 that have a 6 in them\n",
    "have=[i for i in range(1,1000) if '6' in str(i)]\n",
    "print(have)"
   ]
  },
  {
   "cell_type": "code",
   "execution_count": null,
   "id": "cd602a3e",
   "metadata": {},
   "outputs": [],
   "source": [
    "#Count the number of spaces in a string (use string above)\n",
    "string = \"Practice Problems to Drill List Comprehension in Your Head.\"\n"
   ]
  }
 ],
 "metadata": {
  "kernelspec": {
   "display_name": "Python 3 (ipykernel)",
   "language": "python",
   "name": "python3"
  },
  "language_info": {
   "codemirror_mode": {
    "name": "ipython",
    "version": 3
   },
   "file_extension": ".py",
   "mimetype": "text/x-python",
   "name": "python",
   "nbconvert_exporter": "python",
   "pygments_lexer": "ipython3",
   "version": "3.8.10"
  }
 },
 "nbformat": 4,
 "nbformat_minor": 5
}
