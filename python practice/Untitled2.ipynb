{
 "cells": [
  {
   "cell_type": "code",
   "execution_count": null,
   "id": "ecdd830b",
   "metadata": {},
   "outputs": [],
   "source": [
    "# python dictionary\n",
    "#Lookups are faster in dictionaries because Python implements them using hash tables. \n",
    "#if we explain the difference by Big O concepts, dictionaries have constant time complexity, \n",
    "#O(1) while lists have linear time complexity, O(n)."
   ]
  },
  {
   "cell_type": "code",
   "execution_count": null,
   "id": "08244a2f",
   "metadata": {},
   "outputs": [],
   "source": [
    "#keys are immutable ( which cannot be changed ) data types that can be either strings or number\n",
    "#keys are unique within a dictionary and can not be duplicated inside a dictionary, in case if \n",
    "#it is used more than once then subsequent entries will overwrite the previous value."
   ]
  },
  {
   "cell_type": "code",
   "execution_count": null,
   "id": "ecd03b1f",
   "metadata": {},
   "outputs": [],
   "source": [
    "#immutable keys:\n",
    "dictionary_immutable = {[\"a\",\"b\",\"c\"]: \"alpha\", \"o\": \"omega\", \"g\": \"gamma\", \"g\": \"beta\"}\n",
    "print(dictionary_immutable)"
   ]
  },
  {
   "cell_type": "code",
   "execution_count": null,
   "id": "8dee34be",
   "metadata": {},
   "outputs": [],
   "source": [
    "#From the above output, you can observe that defining the first key of the dictionary as a list \n",
    "#results in a TypeError since dictionary keys must be immutable types and list is a mutable type.\n",
    "\n"
   ]
  },
  {
   "cell_type": "code",
   "execution_count": null,
   "id": "25438465",
   "metadata": {},
   "outputs": [],
   "source": [
    "dictionary_immutable = {(\"a\",\"b\",\"c\"): \"alpha\", \"o\": \"omega\", \"g\": \"gamma\", \"g\": \"beta\"}\n",
    "dictionary_immutable"
   ]
  },
  {
   "cell_type": "code",
   "execution_count": null,
   "id": "98c01f6a",
   "metadata": {},
   "outputs": [],
   "source": [
    "#Accessing Keys and Values\n",
    "#To access the key value pair, we would use the .items() method,\n",
    "dict_item={\"a\":1,\"b\":3,\"c\":4}\n",
    "print('our original dictionary is {}'.format(dict_item))\n",
    "key_value_pair=dict_item.items()\n",
    "print('key value pair of our dict is {}'.format(key_value_pair))"
   ]
  },
  {
   "cell_type": "code",
   "execution_count": null,
   "id": "7888f238",
   "metadata": {},
   "outputs": [],
   "source": [
    "# to access key and value seperately \n",
    "print('keys are :{}'.format(dict_item.keys()))\n",
    "print('values are:{}'.format(dict_item.values()))"
   ]
  },
  {
   "cell_type": "code",
   "execution_count": null,
   "id": "f44f309e",
   "metadata": {},
   "outputs": [],
   "source": [
    "#To access keys and values separately, you could use a for loop on the dictionary\n",
    "for key, value in dict_item.items():\n",
    "    print(key,end=\"\")\n",
    "    print('        ',value)"
   ]
  },
  {
   "cell_type": "code",
   "execution_count": null,
   "id": "0463b54f",
   "metadata": {},
   "outputs": [],
   "source": [
    "#As of Python version 3.7, dictionaries are ordered. In Python 3.6 and earlier, dictionaries \n",
    "#are unordered.\n",
    "#When we say that dictionaries are ordered, it means that the items have a defined order, and that order will not change.\n",
    "\n",
    "#Unordered means that the items does not have a defined order, you cannot refer to an item by using an index"
   ]
  },
  {
   "cell_type": "code",
   "execution_count": null,
   "id": "907d3344",
   "metadata": {},
   "outputs": [],
   "source": [
    "corpus = 'learn all about the Python Dictionary and its potential. \\\n",
    "            You would also learn to create word frequency using the Dictionary'\n",
    "word_freq = dict()\n",
    "corpus_word = str(corpus).split()\n",
    "# print(corpus_word)\n",
    "for word in range(len(corpus_word)):\n",
    "    if corpus_word[word] not in word_freq:\n",
    "        word_freq[corpus_word[word]] = 1\n",
    "\n",
    "    else:\n",
    "         word_freq[corpus_word[word]] += 1\n",
    "print(word_freq)\n"
   ]
  },
  {
   "cell_type": "code",
   "execution_count": null,
   "id": "7e73245b",
   "metadata": {},
   "outputs": [],
   "source": []
  }
 ],
 "metadata": {
  "kernelspec": {
   "display_name": "Python 3 (ipykernel)",
   "language": "python",
   "name": "python3"
  },
  "language_info": {
   "codemirror_mode": {
    "name": "ipython",
    "version": 3
   },
   "file_extension": ".py",
   "mimetype": "text/x-python",
   "name": "python",
   "nbconvert_exporter": "python",
   "pygments_lexer": "ipython3",
   "version": "3.8.10"
  }
 },
 "nbformat": 4,
 "nbformat_minor": 5
}
