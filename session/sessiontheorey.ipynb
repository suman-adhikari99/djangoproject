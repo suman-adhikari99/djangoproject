{
 "cells": [
  {
   "cell_type": "code",
   "execution_count": null,
   "metadata": {},
   "outputs": [],
   "source": [
    "http is a stateless means server doesn't make continous connection ,, once the server handles the \n",
    "request and send back the response that is there is no socket conncetion alive the socket Connection\n",
    "is destroyed every time that server sends a response back the next request comes in from the client\n",
    "\n",
    "(The WebSocket API is an advanced technology that makes it possible to open a two-way interactive\n",
    " communication session between the user's browser and a server)\n",
    "\n",
    "\n",
    "\n",
    "when next request comes from the client ,the client has to establish another new connection and \n",
    "server will handle it as a fresh request and then it sends the respond back.(movie gajani)"
   ]
  },
  {
   "cell_type": "code",
   "execution_count": null,
   "metadata": {},
   "outputs": [],
   "source": [
    "Facebook continually uses a stateless service. When the server requests a list of recent messages \n",
    "using the Facebook API, it issues a GET request with token and date. The response is independent \n",
    "of any server state, and everything is stored on the client's machine in the form of a cache\n",
    "example of a stateful protocol, as are File Transfer Protocol (FTP) and Simple Mail Transfer Protocol (SMTP)"
   ]
  },
  {
   "cell_type": "code",
   "execution_count": null,
   "metadata": {},
   "outputs": [],
   "source": [
    "it has short term memory loss. where it cannot remember what was done in prvious request\n",
    "because for every request there is a fresh connection from the client\n",
    "\n",
    "some advantages of stateless is \n",
    "performances- no need to maintain the over head of the connection \n",
    "easily scale application- hosting same appication in various server. like udemy, google have\n",
    "many client.  (load balancer)( no nedd to \n",
    "emember what happen in previous request)"
   ]
  },
  {
   "cell_type": "code",
   "execution_count": null,
   "metadata": {},
   "outputs": [],
   "source": [
    "sissin tracking:\n",
    " session?\n",
    "  what ever happen when a user login to web application till he logs out can be read as a it session\n",
    "  e.g facebook( login, tag, msg ,logout, these all activity are session)\n",
    "\n",
    "  or we can say that session is tracking the user interaction that is from the time you access a\n",
    "  website for the first time till you close your browser or you leaave that website there is the\n",
    "  entire time is called session or entire interaction is a session e.g(e commerece , ticket bocking\n",
    "   they don't need you to login , they will alow you to check out as a guest user, but still \n",
    "   they do maintain session so that they will capture your travel information , what product you \n",
    "   choose on ecommerce website etc. can be maintain in a session) \n",
    "\n",
    "   https://www.javatpoint.com/session-tracking-in-servlets"
   ]
  },
  {
   "cell_type": "code",
   "execution_count": null,
   "metadata": {},
   "outputs": [],
   "source": [
    "session api\n",
    "when the user request comes in if we use the django  session api by simply using request.session\n",
    "the django server internally will create a session for us adn could generate a unique id every \n",
    "session on the django server, every client session will be assign a unique id and that will be \n",
    "sent back to the client asa a cookie and that session id can be mapped to a particular dictionary \n",
    "and we can store our shopping cart or whatever session information we want to on the server side \n",
    "of this dictionary object. so the session can be ended at a later point when the user logs out or \n",
    "whatever we want using the api method . such th client responsibility or browsers responsibility to\n",
    "send the session id back as a cookie. if the cookies are diabled for the some reason django server \n",
    "will fall back 'url rewriting' where it will be append the session id to every to every url in \n",
    "the application\n",
    "if it a html form the django server will automatically include a hidden field and it will ad it \n",
    "send a session id as a hidden field.\n",
    "the key here is that , since http doesnot have a support to rember things will have to pass as a token\n",
    "like a session id that the client keep sending that back and another server knows that it is associated\n",
    "with that particular session by looking at  unique value. so server will maintain unique value and\n",
    "its particular session as a dictionary\n",
    "\n"
   ]
  },
  {
   "cell_type": "code",
   "execution_count": null,
   "metadata": {},
   "outputs": [],
   "source": [
    "cookie suppport\n",
    " in this lecture you will learn how to check if the user's  browser supports cookies .\n",
    " we will do that usisng requset.session\n",
    "request.session\n",
    "        set_test_cookie()\n",
    "        test_cookie_worked()\n",
    "        delete_test_cookie()"
   ]
  },
  {
   "cell_type": "code",
   "execution_count": null,
   "metadata": {},
   "outputs": [],
   "source": [
    "set_test_cookie()  -> this method will set a random cookie onto the web browser\n",
    "when the user accesses our very first view in the application will invoke this method that will\n",
    "set a cookie and then when the user accesses the next view will use that  test_cookie_worked()\n",
    "if the browser sends the cooke we have initailly set back, this method will validate a check for it\n",
    "that means cookies are working in the web browser and will then delete the cookie using \n",
    "delete_test_cookie()\n"
   ]
  },
  {
   "cell_type": "code",
   "execution_count": null,
   "metadata": {},
   "outputs": [],
   "source": [
    "lec-007\n",
    "custom session\n",
    "    -> response.set_cookie \n",
    "                this method set a cookie \n",
    "    -> requst.COOKIES \n",
    "                this will return a dictionary of all the cookies that comes from the browser "
   ]
  },
  {
   "cell_type": "code",
   "execution_count": null,
   "metadata": {},
   "outputs": [],
   "source": [
    "session api\n"
   ]
  }
 ],
 "metadata": {
  "language_info": {
   "name": "python"
  },
  "orig_nbformat": 4
 },
 "nbformat": 4,
 "nbformat_minor": 2
}
