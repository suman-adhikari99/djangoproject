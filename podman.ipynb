{
 "cells": [
  {
   "cell_type": "code",
   "execution_count": null,
   "metadata": {},
   "outputs": [],
   "source": [
    "installing podman \n",
    "sudo apt install podman"
   ]
  },
  {
   "cell_type": "code",
   "execution_count": null,
   "metadata": {},
   "outputs": [],
   "source": [
    "podman configuration file locations\n",
    "cd /etc/containers\n",
    "->this is the main configuration directory\n",
    "\n",
    "cd /etc/Containers/registries.conf\n",
    "-> this file contains configuration information for container registtries and registry mirrors.Connection\n",
    "\n",
    "cd /etc/containers/storage.conf\n",
    "->this file contains configuration information for all tools that use th containers storage library."
   ]
  },
  {
   "cell_type": "code",
   "execution_count": null,
   "metadata": {},
   "outputs": [],
   "source": [
    "working with Container images using podman and skopeo-part1\n",
    "podman\n",
    "    used to directly manage container adn Container images on linux\n",
    "skopeo\n",
    "    used to inspect,copy,delete,and sign container images and manage image repositories"
   ]
  },
  {
   "cell_type": "code",
   "execution_count": null,
   "metadata": {},
   "outputs": [],
   "source": [
    "managing container images using podman\n",
    "podman image\n",
    "podman inspect\n",
    "podman pull/push\n",
    "podman search\n",
    "podman --version\n",
    "podman images\n",
    "podman login/logout\n",
    "podman rmi\n",
    "podman tag/untag\n",
    "podman --help\n",
    "\n",
    "\n",
    "https://www.techtransit.org/10-podman-basic-commands-to-manage-containerized-services/\n",
    "\n",
    "podman image --help -> podman image command"
   ]
  },
  {
   "cell_type": "code",
   "execution_count": null,
   "metadata": {},
   "outputs": [],
   "source": [
    "managing container using skopeo\n",
    "skopeo --help\n",
    "skopeo --version\n",
    "skopeo --inspect\n",
    "skopeo login/logout\n",
    "skopeo copy\n",
    "skopeo sync\n",
    "skopeo list-tag\n"
   ]
  },
  {
   "cell_type": "code",
   "execution_count": null,
   "metadata": {},
   "outputs": [],
   "source": [
    "runnig your first podman Container\n",
    "podman ps -> gives list of podman Container| sudo podman ps -> to check conatiner in root user\n",
    "podman images -> this commnad display our local continer images\n",
    "podman serach -> this is used to search one or more registery form a image\n",
    "podman run -> this command run a command in a new container\n",
    "podman exec -> this comman execute a commman in a running Container\n",
    "podman stop -> this command stop the runnig Container\n",
    "podman rm -> to remove Container\n",
    "podman rmi -> this command used to remove container images for local \n",
    "podman create -> use to create container but cannot start Container\n",
    "podman kill\n",
    "podman pause/unpause\n",
    "podman start/stop/restart\n"
   ]
  },
  {
   "cell_type": "code",
   "execution_count": null,
   "metadata": {},
   "outputs": [],
   "source": [
    "creating container images using buildah native command\n",
    "docker - a docker is a file that contains a set of construction to set to build a container image\n"
   ]
  },
  {
   "cell_type": "code",
   "execution_count": null,
   "metadata": {},
   "outputs": [],
   "source": []
  }
 ],
 "metadata": {
  "language_info": {
   "name": "python"
  },
  "orig_nbformat": 4
 },
 "nbformat": 4,
 "nbformat_minor": 2
}
